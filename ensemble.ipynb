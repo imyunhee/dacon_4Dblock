{
 "cells": [
  {
   "cell_type": "code",
   "execution_count": 1,
   "metadata": {
    "execution": {
     "iopub.execute_input": "2023-01-29T05:56:45.490754Z",
     "iopub.status.busy": "2023-01-29T05:56:45.490147Z",
     "iopub.status.idle": "2023-01-29T05:56:49.636388Z",
     "shell.execute_reply": "2023-01-29T05:56:49.635376Z",
     "shell.execute_reply.started": "2023-01-29T05:56:45.490667Z"
    }
   },
   "outputs": [],
   "source": [
    "import random\n",
    "import pandas as pd\n",
    "import numpy as np\n",
    "import os\n",
    "import cv2\n",
    "\n",
    "import torch\n",
    "import torch.nn as nn\n",
    "import torch.optim as optim\n",
    "import torch.nn.functional as F\n",
    "from torch.utils.data import Dataset, DataLoader\n",
    "\n",
    "import albumentations as A\n",
    "from albumentations.pytorch.transforms import ToTensorV2\n",
    "import torchvision.models as models\n",
    "\n",
    "from tqdm.auto import tqdm\n",
    "from sklearn.metrics import accuracy_score\n",
    "from sklearn.model_selection import train_test_split\n",
    "\n",
    "import warnings\n",
    "warnings.filterwarnings(action='ignore') \n",
    "from collections import OrderedDict"
   ]
  },
  {
   "cell_type": "code",
   "execution_count": 2,
   "metadata": {
    "execution": {
     "iopub.execute_input": "2023-01-29T05:56:49.646021Z",
     "iopub.status.busy": "2023-01-29T05:56:49.642302Z",
     "iopub.status.idle": "2023-01-29T05:56:49.733037Z",
     "shell.execute_reply": "2023-01-29T05:56:49.731991Z",
     "shell.execute_reply.started": "2023-01-29T05:56:49.645981Z"
    },
    "scrolled": true
   },
   "outputs": [
    {
     "data": {
      "text/plain": [
       "device(type='cuda')"
      ]
     },
     "execution_count": 2,
     "metadata": {},
     "output_type": "execute_result"
    }
   ],
   "source": [
    "device = torch.device('cuda') if torch.cuda.is_available() else torch.device('cpu')\n",
    "device"
   ]
  },
  {
   "cell_type": "code",
   "execution_count": null,
   "metadata": {},
   "outputs": [],
   "source": [
    "def inference(model, test_loader, device):\n",
    "    model.to(device)\n",
    "    model.eval()\n",
    "    predictions = []\n",
    "    with torch.no_grad():\n",
    "        for imgs in tqdm(iter(test_loader)):\n",
    "            imgs = imgs.float().to(device)\n",
    "            probs = model(imgs)\n",
    "            probs = probs.cpu().detach().numpy()\n",
    "            probs = probs.astype(float)\n",
    "            predictions += probs.tolist()\n",
    "    return predictions"
   ]
  },
  {
   "cell_type": "markdown",
   "metadata": {},
   "source": [
    "# model1 "
   ]
  },
  {
   "attachments": {},
   "cell_type": "markdown",
   "metadata": {},
   "source": [
    "### model 1 예측"
   ]
  },
  {
   "cell_type": "code",
   "execution_count": 3,
   "metadata": {
    "execution": {
     "iopub.execute_input": "2023-01-29T05:56:49.740254Z",
     "iopub.status.busy": "2023-01-29T05:56:49.737817Z",
     "iopub.status.idle": "2023-01-29T05:56:49.746646Z",
     "shell.execute_reply": "2023-01-29T05:56:49.745656Z",
     "shell.execute_reply.started": "2023-01-29T05:56:49.740216Z"
    }
   },
   "outputs": [],
   "source": [
    "CFG = {\n",
    "    'IMG_SIZE':224,\n",
    "    # 'EPOCHS':100,\n",
    "    # 'LEARNING_RATE':3e-3,\n",
    "    'BATCH_SIZE': 128,\n",
    "    'SEED':2023\n",
    "}\n",
    "\n",
    "test_transform = A.Compose([\n",
    "                            A.Resize(CFG['IMG_SIZE'],CFG['IMG_SIZE']),\n",
    "                            A.Normalize(mean=(0.485, 0.456, 0.406), std=(0.229, 0.224, 0.225), max_pixel_value=255.0, always_apply=False, p=1.0),\n",
    "                            ToTensorV2()\n",
    "                            ])\n",
    "\n",
    "test = pd.read_csv('/dacon-blocks/test.csv')\n",
    "test['img_path'] = test['img_path'].apply(lambda x: '/dacon-blocks/test_whitegrid' + x[6:])\n",
    "\n",
    "test_dataset = CustomDataset(test['img_path'].values, None, test_transform)\n",
    "test_loader = DataLoader(test_dataset, batch_size = CFG['BATCH_SIZE'], shuffle=False, num_workers=7)\n",
    "\n",
    "\n",
    "fc = nn.Sequential(OrderedDict([\n",
    "('bn1', nn.BatchNorm1d(1000)),\n",
    "('drop1', nn.Dropout(p=0.5)),\n",
    "('linear1', nn.Linear(1000, 256)),\n",
    "('drop2', nn.Dropout(p=0.5)),\n",
    "('linear2', nn.Linear(256, 64)),\n",
    "('drop3', nn.Dropout(p=0.5)),\n",
    "('linear3', nn.Linear(64, 10))\n",
    "]))\n",
    "\n",
    "class BaseModel(nn.Module):\n",
    "    def __init__(self):\n",
    "        super(BaseModel, self).__init__()\n",
    "        self.backbone = models.resnext50_32x4d(pretrained=True)\n",
    "        for param in self.backbone.parameters():\n",
    "            param.requiresGrad = False\n",
    "        self.fc = fc\n",
    "        \n",
    "    def forward(self, x):\n",
    "        x = self.backbone(x)\n",
    "        x = F.sigmoid(self.fc(x))\n",
    "        return x"
   ]
  },
  {
   "cell_type": "code",
   "execution_count": 9,
   "metadata": {
    "execution": {
     "iopub.execute_input": "2023-01-29T05:56:49.844665Z",
     "iopub.status.busy": "2023-01-29T05:56:49.841849Z",
     "iopub.status.idle": "2023-01-29T05:57:06.282747Z",
     "shell.execute_reply": "2023-01-29T05:57:06.281722Z",
     "shell.execute_reply.started": "2023-01-29T05:56:49.844628Z"
    },
    "scrolled": true
   },
   "outputs": [
    {
     "name": "stderr",
     "output_type": "stream",
     "text": [
      "Downloading: \"https://download.pytorch.org/models/resnext50_32x4d-7cdf4587.pth\" to /root/.cache/torch/hub/checkpoints/resnext50_32x4d-7cdf4587.pth\n"
     ]
    },
    {
     "data": {
      "application/vnd.jupyter.widget-view+json": {
       "model_id": "1585e22ae8b1453ab694a18d5b8cb4ce",
       "version_major": 2,
       "version_minor": 0
      },
      "text/plain": [
       "  0%|          | 0.00/95.8M [00:00<?, ?B/s]"
      ]
     },
     "metadata": {},
     "output_type": "display_data"
    },
    {
     "data": {
      "text/plain": [
       "<All keys matched successfully>"
      ]
     },
     "execution_count": 9,
     "metadata": {},
     "output_type": "execute_result"
    }
   ],
   "source": [
    "model1 = BaseModel().to(device)\n",
    "model1.load_state_dict(torch.load(\"/model1.pth\"))"
   ]
  },
  {
   "cell_type": "code",
   "execution_count": null,
   "metadata": {},
   "outputs": [],
   "source": [
    "first_preds = inference(model1, test_loader, device)"
   ]
  },
  {
   "cell_type": "code",
   "execution_count": 16,
   "metadata": {
    "execution": {
     "iopub.execute_input": "2023-01-29T05:57:46.399912Z",
     "iopub.status.busy": "2023-01-29T05:57:46.398840Z",
     "iopub.status.idle": "2023-01-29T05:57:46.408020Z",
     "shell.execute_reply": "2023-01-29T05:57:46.406896Z",
     "shell.execute_reply.started": "2023-01-29T05:57:46.399865Z"
    },
    "scrolled": true
   },
   "outputs": [
    {
     "data": {
      "text/plain": [
       "[0.162592813372612,\n",
       " 1.0,\n",
       " 8.007432916201651e-05,\n",
       " 0.010709221474826336,\n",
       " 1.0,\n",
       " 6.096554017176459e-08,\n",
       " 0.007736776024103165,\n",
       " 1.189292743219994e-05,\n",
       " 0.9999997615814209,\n",
       " 0.9999940395355225]"
      ]
     },
     "execution_count": 16,
     "metadata": {},
     "output_type": "execute_result"
    }
   ],
   "source": [
    "first_preds[2]"
   ]
  },
  {
   "cell_type": "markdown",
   "metadata": {},
   "source": [
    "# model2"
   ]
  },
  {
   "attachments": {},
   "cell_type": "markdown",
   "metadata": {},
   "source": [
    "### model2 예측"
   ]
  },
  {
   "cell_type": "code",
   "execution_count": 17,
   "metadata": {
    "execution": {
     "iopub.execute_input": "2023-01-29T05:57:46.409974Z",
     "iopub.status.busy": "2023-01-29T05:57:46.409376Z",
     "iopub.status.idle": "2023-01-29T05:57:46.428135Z",
     "shell.execute_reply": "2023-01-29T05:57:46.427254Z",
     "shell.execute_reply.started": "2023-01-29T05:57:46.409914Z"
    }
   },
   "outputs": [],
   "source": [
    "fc = nn.Sequential(OrderedDict([\n",
    "('bn1', nn.BatchNorm1d(1000)),\n",
    "('drop1', nn.Dropout(p=0.5)),\n",
    "('linear1', nn.Linear(1000, 256)),\n",
    "('drop2', nn.Dropout(p=0.5)),\n",
    "('linear2', nn.Linear(256, 64)),\n",
    "('drop3', nn.Dropout(p=0.5)),\n",
    "('linear3', nn.Linear(64, 10))\n",
    "]))\n",
    "\n",
    "class BaseModel(nn.Module):\n",
    "    def __init__(self):\n",
    "        super(BaseModel, self).__init__()\n",
    "        self.backbone = models.resnext50_32x4d(pretrained=True)\n",
    "        for param in self.backbone.parameters():\n",
    "            param.requiresGrad = False\n",
    "        \n",
    "        self.fc = fc\n",
    "        \n",
    "    def forward(self, x):\n",
    "        x = self.backbone(x)\n",
    "        x = F.sigmoid(self.fc(x))\n",
    "        return x"
   ]
  },
  {
   "cell_type": "code",
   "execution_count": 18,
   "metadata": {
    "execution": {
     "iopub.execute_input": "2023-01-29T05:57:46.429971Z",
     "iopub.status.busy": "2023-01-29T05:57:46.429403Z",
     "iopub.status.idle": "2023-01-29T05:57:48.549885Z",
     "shell.execute_reply": "2023-01-29T05:57:48.548899Z",
     "shell.execute_reply.started": "2023-01-29T05:57:46.429921Z"
    }
   },
   "outputs": [
    {
     "data": {
      "text/plain": [
       "<All keys matched successfully>"
      ]
     },
     "execution_count": 18,
     "metadata": {},
     "output_type": "execute_result"
    }
   ],
   "source": [
    "model2 = BaseModel().to(device)\n",
    "model2.load_state_dict(torch.load(\"model2.pth\"))"
   ]
  },
  {
   "cell_type": "code",
   "execution_count": 19,
   "metadata": {
    "execution": {
     "iopub.execute_input": "2023-01-29T05:57:48.551906Z",
     "iopub.status.busy": "2023-01-29T05:57:48.551527Z",
     "iopub.status.idle": "2023-01-29T05:57:55.179585Z",
     "shell.execute_reply": "2023-01-29T05:57:55.178363Z",
     "shell.execute_reply.started": "2023-01-29T05:57:48.551870Z"
    }
   },
   "outputs": [
    {
     "data": {
      "application/vnd.jupyter.widget-view+json": {
       "model_id": "56ca225502704b14acbf3fa7b664bd14",
       "version_major": 2,
       "version_minor": 0
      },
      "text/plain": [
       "  0%|          | 0/12 [00:00<?, ?it/s]"
      ]
     },
     "metadata": {},
     "output_type": "display_data"
    }
   ],
   "source": [
    "second_preds = inference(model2, test_loader, device)"
   ]
  },
  {
   "cell_type": "code",
   "execution_count": 23,
   "metadata": {
    "execution": {
     "iopub.execute_input": "2023-01-29T05:58:17.290409Z",
     "iopub.status.busy": "2023-01-29T05:58:17.290024Z",
     "iopub.status.idle": "2023-01-29T05:58:17.296882Z",
     "shell.execute_reply": "2023-01-29T05:58:17.295987Z",
     "shell.execute_reply.started": "2023-01-29T05:58:17.290365Z"
    }
   },
   "outputs": [
    {
     "data": {
      "text/plain": [
       "[0.09511613845825195,\n",
       " 0.9953898191452026,\n",
       " 1.3383831173996441e-05,\n",
       " 1.7493347286290373e-06,\n",
       " 1.0,\n",
       " 0.017939502373337746,\n",
       " 0.000358765508281067,\n",
       " 2.7170221983396914e-07,\n",
       " 0.9996417760848999,\n",
       " 0.999885082244873]"
      ]
     },
     "execution_count": 23,
     "metadata": {},
     "output_type": "execute_result"
    }
   ],
   "source": [
    "second_preds[2]"
   ]
  },
  {
   "cell_type": "markdown",
   "metadata": {},
   "source": [
    "# model3"
   ]
  },
  {
   "attachments": {},
   "cell_type": "markdown",
   "metadata": {},
   "source": [
    "### model 3 예측"
   ]
  },
  {
   "cell_type": "code",
   "execution_count": null,
   "metadata": {},
   "outputs": [],
   "source": [
    "model3 = torch.load(\"model3.pth\")"
   ]
  },
  {
   "cell_type": "code",
   "execution_count": null,
   "metadata": {},
   "outputs": [],
   "source": [
    "third_preds = inference(model3, test_loader, device)"
   ]
  },
  {
   "cell_type": "code",
   "execution_count": 29,
   "metadata": {
    "execution": {
     "iopub.execute_input": "2023-01-29T05:58:33.409197Z",
     "iopub.status.busy": "2023-01-29T05:58:33.407734Z",
     "iopub.status.idle": "2023-01-29T05:58:33.416668Z",
     "shell.execute_reply": "2023-01-29T05:58:33.415419Z",
     "shell.execute_reply.started": "2023-01-29T05:58:33.409150Z"
    },
    "scrolled": true
   },
   "outputs": [
    {
     "data": {
      "text/plain": [
       "[0.9999905824661255,\n",
       " 1.0,\n",
       " 2.0618767848645803e-07,\n",
       " 2.2143453737299978e-10,\n",
       " 0.9800875782966614,\n",
       " 8.750817670488686e-08,\n",
       " 0.9690304398536682,\n",
       " 2.0526066180082125e-07,\n",
       " 0.0002022561093326658,\n",
       " 1.0]"
      ]
     },
     "execution_count": 29,
     "metadata": {},
     "output_type": "execute_result"
    }
   ],
   "source": [
    "third_preds[2]"
   ]
  },
  {
   "cell_type": "markdown",
   "metadata": {},
   "source": [
    "# model4"
   ]
  },
  {
   "attachments": {},
   "cell_type": "markdown",
   "metadata": {},
   "source": [
    "### model 4 예측"
   ]
  },
  {
   "cell_type": "code",
   "execution_count": null,
   "metadata": {},
   "outputs": [],
   "source": [
    "fc = nn.Sequential(OrderedDict([\n",
    "('bn1', nn.BatchNorm1d(1000)),\n",
    "('drop1', nn.Dropout(p=0.5)),\n",
    "('linear1', nn.Linear(1000, 256)),\n",
    "('drop2', nn.Dropout(p=0.5)),\n",
    "('linear2', nn.Linear(256, 64)),\n",
    "('drop3', nn.Dropout(p=0.5)),\n",
    "('linear3', nn.Linear(64, 10))\n",
    "]))\n",
    "\n",
    "class BaseModel(nn.Module):\n",
    "    def __init__(self):\n",
    "        super(BaseModel, self).__init__()\n",
    "        self.backbone = models.resnext50_32x4d(pretrained=True)\n",
    "        for param in self.backbone.parameters():\n",
    "            param.requiresGrad = False\n",
    "        \n",
    "        self.fc = fc\n",
    "        \n",
    "    def forward(self, x):\n",
    "        x = self.backbone(x)\n",
    "        x = F.sigmoid(self.fc(x))\n",
    "        return x"
   ]
  },
  {
   "cell_type": "code",
   "execution_count": null,
   "metadata": {},
   "outputs": [],
   "source": [
    "model4 = torch.load(\"model4.pth\")"
   ]
  },
  {
   "cell_type": "code",
   "execution_count": null,
   "metadata": {},
   "outputs": [],
   "source": [
    "fourth_preds = inference(model4, test_loader, device)"
   ]
  },
  {
   "cell_type": "code",
   "execution_count": null,
   "metadata": {},
   "outputs": [],
   "source": [
    "fourth_preds[2]"
   ]
  },
  {
   "cell_type": "markdown",
   "metadata": {},
   "source": [
    "# ensemble"
   ]
  },
  {
   "cell_type": "code",
   "execution_count": 30,
   "metadata": {
    "execution": {
     "iopub.execute_input": "2023-01-29T05:58:33.419173Z",
     "iopub.status.busy": "2023-01-29T05:58:33.418676Z",
     "iopub.status.idle": "2023-01-29T05:58:33.442279Z",
     "shell.execute_reply": "2023-01-29T05:58:33.441390Z",
     "shell.execute_reply.started": "2023-01-29T05:58:33.419129Z"
    }
   },
   "outputs": [],
   "source": [
    "a = np.array(first_preds)\n",
    "b = np.array(second_preds)\n",
    "c = np.array(third_preds)\n",
    "d = np.array(fourth_preds)"
   ]
  },
  {
   "cell_type": "code",
   "execution_count": null,
   "metadata": {
    "execution": {
     "iopub.execute_input": "2023-01-29T05:58:33.457319Z",
     "iopub.status.busy": "2023-01-29T05:58:33.456746Z",
     "iopub.status.idle": "2023-01-29T05:58:33.469058Z",
     "shell.execute_reply": "2023-01-29T05:58:33.467950Z",
     "shell.execute_reply.started": "2023-01-29T05:58:33.457292Z"
    },
    "scrolled": true
   },
   "outputs": [],
   "source": [
    "#동일한 비율로 각 확률값 계산\n",
    "ensem = (a*0.25 + b*0.25 +c*0.25 + d*0.25)\n",
    "\n",
    "# 확률값이 0.5 이하면 0, 0.5 초과면 1로 설정\n",
    "ensem[ensem <= 0.5] = 0\n",
    "ensem[ensem > 0.5] = 1\n",
    "\n",
    "ensem = ensem.astype(int)"
   ]
  },
  {
   "cell_type": "code",
   "execution_count": null,
   "metadata": {},
   "outputs": [],
   "source": [
    "preds = ensem.tolist()"
   ]
  },
  {
   "cell_type": "code",
   "execution_count": null,
   "metadata": {},
   "outputs": [],
   "source": [
    "submit = pd.read_csv(\"/dacon-blocks/sample_submission.csv\")\n",
    "submit.iloc[:,1:] = preds\n",
    "print(submit.head())\n",
    "submit.to_csv('ensemble.csv', index=False)"
   ]
  }
 ],
 "metadata": {
  "kernelspec": {
   "display_name": "Python 3",
   "language": "python",
   "name": "python3"
  },
  "language_info": {
   "codemirror_mode": {
    "name": "ipython",
    "version": 3
   },
   "file_extension": ".py",
   "mimetype": "text/x-python",
   "name": "python",
   "nbconvert_exporter": "python",
   "pygments_lexer": "ipython3",
   "version": "3.8.8"
  }
 },
 "nbformat": 4,
 "nbformat_minor": 4
}