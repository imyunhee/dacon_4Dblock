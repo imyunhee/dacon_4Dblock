{
 "cells": [
  {
   "cell_type": "code",
   "execution_count": 1,
   "metadata": {
    "execution": {
     "iopub.execute_input": "2023-01-29T05:56:45.490754Z",
     "iopub.status.busy": "2023-01-29T05:56:45.490147Z",
     "iopub.status.idle": "2023-01-29T05:56:49.636388Z",
     "shell.execute_reply": "2023-01-29T05:56:49.635376Z",
     "shell.execute_reply.started": "2023-01-29T05:56:45.490667Z"
    },
    "pycharm": {
     "name": "#%%\n"
    }
   },
   "outputs": [],
   "source": [
    "import random\n",
    "import pandas as pd\n",
    "import numpy as np\n",
    "import os\n",
    "import cv2\n",
    "\n",
    "import torch\n",
    "import torch.nn as nn\n",
    "import torch.optim as optim\n",
    "import torch.nn.functional as F\n",
    "from torch.utils.data import Dataset, DataLoader\n",
    "\n",
    "import albumentations as A\n",
    "from albumentations.pytorch.transforms import ToTensorV2\n",
    "import torchvision.models as models\n",
    "\n",
    "from tqdm.auto import tqdm\n",
    "from sklearn.metrics import accuracy_score\n",
    "from sklearn.model_selection import train_test_split\n",
    "\n",
    "import warnings\n",
    "warnings.filterwarnings(action='ignore') \n",
    "from collections import OrderedDict"
   ]
  },
  {
   "cell_type": "code",
   "execution_count": 2,
   "metadata": {
    "execution": {
     "iopub.execute_input": "2023-01-29T05:56:49.646021Z",
     "iopub.status.busy": "2023-01-29T05:56:49.642302Z",
     "iopub.status.idle": "2023-01-29T05:56:49.733037Z",
     "shell.execute_reply": "2023-01-29T05:56:49.731991Z",
     "shell.execute_reply.started": "2023-01-29T05:56:49.645981Z"
    },
    "scrolled": true,
    "pycharm": {
     "name": "#%%\n"
    }
   },
   "outputs": [
    {
     "data": {
      "text/plain": [
       "device(type='cuda')"
      ]
     },
     "execution_count": 2,
     "metadata": {},
     "output_type": "execute_result"
    }
   ],
   "source": [
    "device = torch.device('cuda') if torch.cuda.is_available() else torch.device('cpu')\n",
    "device"
   ]
  },
  {
   "cell_type": "markdown",
   "metadata": {
    "pycharm": {
     "name": "#%% md\n"
    }
   },
   "source": [
    "### 0과 1이 아닌 확률로 예측"
   ]
  },
  {
   "cell_type": "code",
   "execution_count": null,
   "metadata": {
    "pycharm": {
     "name": "#%%\n"
    }
   },
   "outputs": [],
   "source": [
    "def inference(model, test_loader, device):\n",
    "    model.to(device)\n",
    "    model.eval()\n",
    "    predictions = []\n",
    "    with torch.no_grad():\n",
    "        for imgs in tqdm(iter(test_loader)):\n",
    "            imgs = imgs.float().to(device)\n",
    "            \n",
    "            probs = model(imgs)\n",
    "\n",
    "            probs  = probs.cpu().detach().numpy()\n",
    "            preds = probs \n",
    "            preds = preds.astype(float)\n",
    "            predictions += preds.tolist()\n",
    "    return predictions"
   ]
  },
  {
   "cell_type": "markdown",
   "metadata": {
    "pycharm": {
     "name": "#%% md\n"
    }
   },
   "source": [
    "# model1 "
   ]
  },
  {
   "cell_type": "markdown",
   "metadata": {
    "pycharm": {
     "name": "#%% md\n"
    }
   },
   "source": [
    "### model 학습에 사용한 정보 load"
   ]
  },
  {
   "cell_type": "code",
   "execution_count": 3,
   "metadata": {
    "execution": {
     "iopub.execute_input": "2023-01-29T05:56:49.740254Z",
     "iopub.status.busy": "2023-01-29T05:56:49.737817Z",
     "iopub.status.idle": "2023-01-29T05:56:49.746646Z",
     "shell.execute_reply": "2023-01-29T05:56:49.745656Z",
     "shell.execute_reply.started": "2023-01-29T05:56:49.740216Z"
    },
    "pycharm": {
     "name": "#%%\n"
    }
   },
   "outputs": [],
   "source": [
    "CFG = {\n",
    "    'IMG_SIZE':224,\n",
    "    'EPOCHS':100,\n",
    "    'LEARNING_RATE':3e-3,\n",
    "    'BATCH_SIZE': 128,\n",
    "    'SEED':2023\n",
    "}\n",
    "\n",
    "test_transform = A.Compose([\n",
    "                            A.Resize(CFG['IMG_SIZE'],CFG['IMG_SIZE']),\n",
    "                            A.Normalize(mean=(0.485, 0.456, 0.406), std=(0.229, 0.224, 0.225), max_pixel_value=255.0, always_apply=False, p=1.0),\n",
    "                            ToTensorV2()\n",
    "                            ])\n",
    "\n",
    "def seed_everything(seed):\n",
    "    random.seed(seed)\n",
    "    os.environ['PYTHONHASHSEED'] = str(seed)\n",
    "    np.random.seed(seed)\n",
    "    torch.manual_seed(seed)\n",
    "    torch.cuda.manual_seed(seed)\n",
    "    torch.backends.cudnn.deterministic = True\n",
    "    torch.backends.cudnn.benchmark = True\n",
    "seed_everything(CFG['SEED'])\n",
    "\n",
    "class CustomDataset(Dataset):\n",
    "    def __init__(self, img_path_list, label_list, transforms=None):\n",
    "        self.img_path_list = img_path_list\n",
    "        self.label_list = label_list\n",
    "        self.transforms = transforms\n",
    "        \n",
    "    def __getitem__(self, index):\n",
    "        img_path = self.img_path_list[index]\n",
    "        \n",
    "        image = cv2.imread(img_path)\n",
    "        if self.transforms is not None:\n",
    "            image = self.transforms(image=image)['image']\n",
    "        \n",
    "        if self.label_list is not None:\n",
    "            label = torch.FloatTensor(self.label_list[index])\n",
    "            return image, label\n",
    "        else:\n",
    "            return image\n",
    "        \n",
    "    def __len__(self):\n",
    "        return len(self.img_path_list)\n",
    "    \n",
    "fc = nn.Sequential(OrderedDict([\n",
    "('bn1', nn.BatchNorm1d(1000)),\n",
    "('drop1', nn.Dropout(p=0.5)),\n",
    "('linear1', nn.Linear(1000, 256)),\n",
    "('drop2', nn.Dropout(p=0.5)),\n",
    "('linear2', nn.Linear(256, 64)),\n",
    "('drop3', nn.Dropout(p=0.5)),\n",
    "('linear3', nn.Linear(64, 10))\n",
    "]))\n",
    "\n",
    "class BaseModel(nn.Module):\n",
    "    def __init__(self, num_classes=10):\n",
    "        super(BaseModel, self).__init__()\n",
    "        self.backbone = models.resnext50_32x4d(pretrained=True)\n",
    "        for param in self.backbone.parameters():\n",
    "            param.requiresGrad = False\n",
    "        self.fc = fc\n",
    "        \n",
    "    def forward(self, x):\n",
    "        x = self.backbone(x)\n",
    "        x = F.sigmoid(self.fc(x))\n",
    "        return x"
   ]
  },
  {
   "cell_type": "code",
   "execution_count": 9,
   "metadata": {
    "execution": {
     "iopub.execute_input": "2023-01-29T05:56:49.844665Z",
     "iopub.status.busy": "2023-01-29T05:56:49.841849Z",
     "iopub.status.idle": "2023-01-29T05:57:06.282747Z",
     "shell.execute_reply": "2023-01-29T05:57:06.281722Z",
     "shell.execute_reply.started": "2023-01-29T05:56:49.844628Z"
    },
    "scrolled": true,
    "pycharm": {
     "name": "#%%\n"
    }
   },
   "outputs": [
    {
     "name": "stderr",
     "output_type": "stream",
     "text": [
      "Downloading: \"https://download.pytorch.org/models/resnext50_32x4d-7cdf4587.pth\" to /root/.cache/torch/hub/checkpoints/resnext50_32x4d-7cdf4587.pth\n"
     ]
    },
    {
     "data": {
      "application/vnd.jupyter.widget-view+json": {
       "model_id": "1585e22ae8b1453ab694a18d5b8cb4ce",
       "version_major": 2,
       "version_minor": 0
      },
      "text/plain": [
       "  0%|          | 0.00/95.8M [00:00<?, ?B/s]"
      ]
     },
     "metadata": {},
     "output_type": "display_data"
    },
    {
     "data": {
      "text/plain": [
       "<All keys matched successfully>"
      ]
     },
     "execution_count": 9,
     "metadata": {},
     "output_type": "execute_result"
    }
   ],
   "source": [
    "model1 = BaseModel().to(device)\n",
    "model1.load_state_dict(torch.load(\"/model1.pth\"))"
   ]
  },
  {
   "cell_type": "code",
   "execution_count": null,
   "metadata": {
    "pycharm": {
     "name": "#%%\n"
    }
   },
   "outputs": [],
   "source": [
    "test = pd.read_csv('/dacon-blocks/test.csv')\n",
    "test['img_path'] = test['img_path'].apply(lambda x: '/dacon-blocks/test_whitegrid' + x[6:])\n",
    "\n",
    "test_dataset = CustomDataset(test['img_path'].values, None, test_transform)\n",
    "test_loader = DataLoader(test_dataset, batch_size = CFG['BATCH_SIZE'], shuffle=False, num_workers=7)\n",
    "\n",
    "first_preds = inference(model1, test_loader, device)"
   ]
  },
  {
   "cell_type": "code",
   "execution_count": 16,
   "metadata": {
    "execution": {
     "iopub.execute_input": "2023-01-29T05:57:46.399912Z",
     "iopub.status.busy": "2023-01-29T05:57:46.398840Z",
     "iopub.status.idle": "2023-01-29T05:57:46.408020Z",
     "shell.execute_reply": "2023-01-29T05:57:46.406896Z",
     "shell.execute_reply.started": "2023-01-29T05:57:46.399865Z"
    },
    "scrolled": true,
    "pycharm": {
     "name": "#%%\n"
    }
   },
   "outputs": [
    {
     "data": {
      "text/plain": [
       "[0.162592813372612,\n",
       " 1.0,\n",
       " 8.007432916201651e-05,\n",
       " 0.010709221474826336,\n",
       " 1.0,\n",
       " 6.096554017176459e-08,\n",
       " 0.007736776024103165,\n",
       " 1.189292743219994e-05,\n",
       " 0.9999997615814209,\n",
       " 0.9999940395355225]"
      ]
     },
     "execution_count": 16,
     "metadata": {},
     "output_type": "execute_result"
    }
   ],
   "source": [
    "first_preds[2]"
   ]
  },
  {
   "cell_type": "markdown",
   "metadata": {
    "pycharm": {
     "name": "#%% md\n"
    }
   },
   "source": [
    "# model2"
   ]
  },
  {
   "cell_type": "markdown",
   "metadata": {
    "pycharm": {
     "name": "#%% md\n"
    }
   },
   "source": [
    "### model 학습에 사용한 정보 load"
   ]
  },
  {
   "cell_type": "code",
   "execution_count": 17,
   "metadata": {
    "execution": {
     "iopub.execute_input": "2023-01-29T05:57:46.409974Z",
     "iopub.status.busy": "2023-01-29T05:57:46.409376Z",
     "iopub.status.idle": "2023-01-29T05:57:46.428135Z",
     "shell.execute_reply": "2023-01-29T05:57:46.427254Z",
     "shell.execute_reply.started": "2023-01-29T05:57:46.409914Z"
    },
    "pycharm": {
     "name": "#%%\n"
    }
   },
   "outputs": [],
   "source": [
    "CFG = {\n",
    "    'IMG_SIZE':224,\n",
    "    'EPOCHS':100,\n",
    "    'LEARNING_RATE':3e-3,\n",
    "    'BATCH_SIZE': 128,\n",
    "    'SEED':2023\n",
    "}\n",
    "\n",
    "test_transform = A.Compose([\n",
    "                            A.Resize(CFG['IMG_SIZE'],CFG['IMG_SIZE']),\n",
    "                            A.Normalize(mean=(0.485, 0.456, 0.406), std=(0.229, 0.224, 0.225), max_pixel_value=255.0, always_apply=False, p=1.0),\n",
    "                            ToTensorV2()\n",
    "                            ])\n",
    "\n",
    "def seed_everything(seed):\n",
    "    random.seed(seed)\n",
    "    os.environ['PYTHONHASHSEED'] = str(seed)\n",
    "    np.random.seed(seed)\n",
    "    torch.manual_seed(seed)\n",
    "    torch.cuda.manual_seed(seed)\n",
    "    torch.backends.cudnn.deterministic = True\n",
    "    torch.backends.cudnn.benchmark = True\n",
    "seed_everything(CFG['SEED'])\n",
    "\n",
    "class CustomDataset(Dataset):\n",
    "    def __init__(self, img_path_list, label_list, transforms=None):\n",
    "        self.img_path_list = img_path_list\n",
    "        self.label_list = label_list\n",
    "        self.transforms = transforms\n",
    "        \n",
    "    def __getitem__(self, index):\n",
    "        img_path = self.img_path_list[index]\n",
    "        \n",
    "        image = cv2.imread(img_path)\n",
    "        if self.transforms is not None:\n",
    "            image = self.transforms(image=image)['image']\n",
    "        \n",
    "        if self.label_list is not None:\n",
    "            label = torch.FloatTensor(self.label_list[index])\n",
    "            return image, label\n",
    "        else:\n",
    "            return image\n",
    "        \n",
    "    def __len__(self):\n",
    "        return len(self.img_path_list)\n",
    "\n",
    "fc = nn.Sequential(OrderedDict([\n",
    "('bn1', nn.BatchNorm1d(1000)),\n",
    "('drop1', nn.Dropout(p=0.5)),\n",
    "('linear1', nn.Linear(1000, 256)),\n",
    "('drop2', nn.Dropout(p=0.5)),\n",
    "('linear2', nn.Linear(256, 64)),\n",
    "('drop3', nn.Dropout(p=0.5)),\n",
    "('linear3', nn.Linear(64, 10))\n",
    "]))\n",
    "\n",
    "class BaseModel(nn.Module):\n",
    "    def __init__(self, num_classes=10):\n",
    "        super(BaseModel, self).__init__()\n",
    "        self.backbone = models.resnext50_32x4d(pretrained=True)\n",
    "        for param in self.backbone.parameters():\n",
    "            param.requiresGrad = False\n",
    "        \n",
    "        self.fc = fc\n",
    "        \n",
    "    def forward(self, x):\n",
    "        x = self.backbone(x)\n",
    "        x = F.sigmoid(self.fc(x))\n",
    "        return x"
   ]
  },
  {
   "cell_type": "code",
   "execution_count": 18,
   "metadata": {
    "execution": {
     "iopub.execute_input": "2023-01-29T05:57:46.429971Z",
     "iopub.status.busy": "2023-01-29T05:57:46.429403Z",
     "iopub.status.idle": "2023-01-29T05:57:48.549885Z",
     "shell.execute_reply": "2023-01-29T05:57:48.548899Z",
     "shell.execute_reply.started": "2023-01-29T05:57:46.429921Z"
    },
    "pycharm": {
     "name": "#%%\n"
    }
   },
   "outputs": [
    {
     "data": {
      "text/plain": [
       "<All keys matched successfully>"
      ]
     },
     "execution_count": 18,
     "metadata": {},
     "output_type": "execute_result"
    }
   ],
   "source": [
    "model2 = BaseModel().to(device)\n",
    "model2.load_state_dict(torch.load(\"model2.pth\"))"
   ]
  },
  {
   "cell_type": "code",
   "execution_count": 19,
   "metadata": {
    "execution": {
     "iopub.execute_input": "2023-01-29T05:57:48.551906Z",
     "iopub.status.busy": "2023-01-29T05:57:48.551527Z",
     "iopub.status.idle": "2023-01-29T05:57:55.179585Z",
     "shell.execute_reply": "2023-01-29T05:57:55.178363Z",
     "shell.execute_reply.started": "2023-01-29T05:57:48.551870Z"
    },
    "pycharm": {
     "name": "#%%\n"
    }
   },
   "outputs": [
    {
     "data": {
      "application/vnd.jupyter.widget-view+json": {
       "model_id": "56ca225502704b14acbf3fa7b664bd14",
       "version_major": 2,
       "version_minor": 0
      },
      "text/plain": [
       "  0%|          | 0/12 [00:00<?, ?it/s]"
      ]
     },
     "metadata": {},
     "output_type": "display_data"
    }
   ],
   "source": [
    "test = pd.read_csv('/dacon-blocks/test.csv')\n",
    "test['img_path'] = test['img_path'].apply(lambda x: '/dacon-blocks/test_whitegrid' + x[6:])\n",
    "\n",
    "test_dataset = CustomDataset(test['img_path'].values, None, test_transform)\n",
    "test_loader = DataLoader(test_dataset, batch_size = CFG['BATCH_SIZE'], shuffle=False, num_workers=7)\n",
    "\n",
    "second_preds = inference(model2, test_loader, device)"
   ]
  },
  {
   "cell_type": "code",
   "execution_count": 23,
   "metadata": {
    "execution": {
     "iopub.execute_input": "2023-01-29T05:58:17.290409Z",
     "iopub.status.busy": "2023-01-29T05:58:17.290024Z",
     "iopub.status.idle": "2023-01-29T05:58:17.296882Z",
     "shell.execute_reply": "2023-01-29T05:58:17.295987Z",
     "shell.execute_reply.started": "2023-01-29T05:58:17.290365Z"
    },
    "pycharm": {
     "name": "#%%\n"
    }
   },
   "outputs": [
    {
     "data": {
      "text/plain": [
       "[0.09511613845825195,\n",
       " 0.9953898191452026,\n",
       " 1.3383831173996441e-05,\n",
       " 1.7493347286290373e-06,\n",
       " 1.0,\n",
       " 0.017939502373337746,\n",
       " 0.000358765508281067,\n",
       " 2.7170221983396914e-07,\n",
       " 0.9996417760848999,\n",
       " 0.999885082244873]"
      ]
     },
     "execution_count": 23,
     "metadata": {},
     "output_type": "execute_result"
    }
   ],
   "source": [
    "second_preds[2]"
   ]
  },
  {
   "cell_type": "markdown",
   "metadata": {
    "pycharm": {
     "name": "#%% md\n"
    }
   },
   "source": [
    "# model3"
   ]
  },
  {
   "cell_type": "markdown",
   "metadata": {
    "pycharm": {
     "name": "#%% md\n"
    }
   },
   "source": [
    "### model 학습에 사용한 정보 load"
   ]
  },
  {
   "cell_type": "code",
   "execution_count": 24,
   "metadata": {
    "execution": {
     "iopub.execute_input": "2023-01-29T05:58:17.299169Z",
     "iopub.status.busy": "2023-01-29T05:58:17.298551Z",
     "iopub.status.idle": "2023-01-29T05:58:17.307448Z",
     "shell.execute_reply": "2023-01-29T05:58:17.306351Z",
     "shell.execute_reply.started": "2023-01-29T05:58:17.299130Z"
    },
    "pycharm": {
     "name": "#%%\n"
    }
   },
   "outputs": [],
   "source": [
    "CFG = {\n",
    "    'IMG_SIZE':224,\n",
    "    'EPOCHS':100,\n",
    "    'PATIENCE': 10,\n",
    "    'LEARNING_RATE':4e-4,\n",
    "    'BATCH_SIZE': 128,\n",
    "    'SEED':2023\n",
    "}\n",
    "\n",
    "test_transform = A.Compose([\n",
    "                            A.Resize(CFG['IMG_SIZE'],CFG['IMG_SIZE']),\n",
    "                            A.Normalize(mean=(0, 0, 0), std=(1,1,1), max_pixel_value=255.0, always_apply=False, p=1.0),\n",
    "                            ToTensorV2()\n",
    "                            ])\n",
    "\n",
    "class CustomDataset(Dataset):\n",
    "    def __init__(self, img_path_list, label_list, transforms=None):\n",
    "        self.img_path_list = img_path_list\n",
    "        self.label_list = label_list\n",
    "        self.transforms = transforms\n",
    "        \n",
    "    def __getitem__(self, index):\n",
    "        img_path = self.img_path_list[index]\n",
    "        \n",
    "        image = cv2.imread(img_path)\n",
    "        if self.transforms is not None:\n",
    "            image = self.transforms(image=image)['image']\n",
    "        \n",
    "        if self.label_list is not None:\n",
    "            label = torch.FloatTensor(self.label_list[index])\n",
    "            return image, label\n",
    "        else:\n",
    "            return image\n",
    "        \n",
    "    def __len__(self):\n",
    "        return len(self.img_path_list)"
   ]
  },
  {
   "cell_type": "code",
   "execution_count": null,
   "metadata": {
    "pycharm": {
     "name": "#%%\n"
    }
   },
   "outputs": [],
   "source": [
    "model3 = torch.load(\"model3.pth\")"
   ]
  },
  {
   "cell_type": "code",
   "execution_count": null,
   "metadata": {
    "pycharm": {
     "name": "#%%\n"
    }
   },
   "outputs": [],
   "source": [
    "test = pd.read_csv('/dacon-blocks/test.csv')\n",
    "test['img_path'] = test['img_path'].apply(lambda x: '/dacon-blocks/test_whitegrid' + x[6:])\n",
    "\n",
    "test_dataset = CustomDataset(test['img_path'].values, None, test_transform)\n",
    "test_loader = DataLoader(test_dataset, batch_size = CFG['BATCH_SIZE'], shuffle=False, num_workers=7)\n",
    "\n",
    "third_preds = inference(model3, test_loader, device)"
   ]
  },
  {
   "cell_type": "code",
   "execution_count": 29,
   "metadata": {
    "execution": {
     "iopub.execute_input": "2023-01-29T05:58:33.409197Z",
     "iopub.status.busy": "2023-01-29T05:58:33.407734Z",
     "iopub.status.idle": "2023-01-29T05:58:33.416668Z",
     "shell.execute_reply": "2023-01-29T05:58:33.415419Z",
     "shell.execute_reply.started": "2023-01-29T05:58:33.409150Z"
    },
    "scrolled": true,
    "pycharm": {
     "name": "#%%\n"
    }
   },
   "outputs": [
    {
     "data": {
      "text/plain": [
       "[0.9999905824661255,\n",
       " 1.0,\n",
       " 2.0618767848645803e-07,\n",
       " 2.2143453737299978e-10,\n",
       " 0.9800875782966614,\n",
       " 8.750817670488686e-08,\n",
       " 0.9690304398536682,\n",
       " 2.0526066180082125e-07,\n",
       " 0.0002022561093326658,\n",
       " 1.0]"
      ]
     },
     "execution_count": 29,
     "metadata": {},
     "output_type": "execute_result"
    }
   ],
   "source": [
    "third_preds[2]"
   ]
  },
  {
   "cell_type": "markdown",
   "metadata": {
    "pycharm": {
     "name": "#%% md\n"
    }
   },
   "source": [
    "# model4"
   ]
  },
  {
   "cell_type": "markdown",
   "metadata": {
    "pycharm": {
     "name": "#%% md\n"
    }
   },
   "source": [
    "### model 학습에 사용한 정보 load"
   ]
  },
  {
   "cell_type": "code",
   "execution_count": null,
   "metadata": {
    "pycharm": {
     "name": "#%%\n"
    }
   },
   "outputs": [],
   "source": [
    "test_transform = A.Compose([\n",
    "                            A.Resize(CFG['IMG_SIZE'],CFG['IMG_SIZE']),\n",
    "                            A.Normalize(mean=(0, 0, 0), std=(1,1,1), max_pixel_value=255.0, always_apply=False, p=1.0),\n",
    "                            ToTensorV2()\n",
    "                            ])\n",
    "\n",
    "class CustomDataset(Dataset):\n",
    "    def __init__(self, img_path_list, label_list, transforms=None):\n",
    "        self.img_path_list = img_path_list\n",
    "        self.label_list = label_list\n",
    "        self.transforms = transforms\n",
    "        \n",
    "    def __getitem__(self, index):\n",
    "        img_path = self.img_path_list[index]\n",
    "        \n",
    "        image = cv2.imread(img_path)\n",
    "        if self.transforms is not None:\n",
    "            image = self.transforms(image=image)['image']\n",
    "        \n",
    "        if self.label_list is not None:\n",
    "            label = torch.FloatTensor(self.label_list[index])\n",
    "            return image, label\n",
    "        else:\n",
    "            return image\n",
    "        \n",
    "    def __len__(self):\n",
    "        return len(self.img_path_list)\n",
    "\n",
    "from collections import OrderedDict\n",
    "fc = nn.Sequential(OrderedDict([\n",
    "('bn1', nn.BatchNorm1d(1000)),\n",
    "('drop1', nn.Dropout(p=0.5)),\n",
    "('linear1', nn.Linear(1000, 256)),\n",
    "('drop2', nn.Dropout(p=0.5)),\n",
    "('linear2', nn.Linear(256, 64)),\n",
    "('drop3', nn.Dropout(p=0.5)),\n",
    "('linear3', nn.Linear(64, 10))\n",
    "]))\n",
    "\n",
    "class BaseModel(nn.Module):\n",
    "    def __init__(self, num_classes=10):\n",
    "        super(BaseModel, self).__init__()\n",
    "        self.backbone = models.resnext50_32x4d(pretrained=True)\n",
    "        for param in self.backbone.parameters():\n",
    "            param.requiresGrad = False\n",
    "        \n",
    "        self.fc = fc\n",
    "        \n",
    "    def forward(self, x):\n",
    "        x = self.backbone(x)\n",
    "        x = F.sigmoid(self.fc(x))\n",
    "        return x"
   ]
  },
  {
   "cell_type": "code",
   "execution_count": null,
   "metadata": {
    "pycharm": {
     "name": "#%%\n"
    }
   },
   "outputs": [],
   "source": [
    "model4 = torch.load(\"model4.pth\")"
   ]
  },
  {
   "cell_type": "code",
   "execution_count": null,
   "metadata": {
    "pycharm": {
     "name": "#%%\n"
    }
   },
   "outputs": [],
   "source": [
    "test = pd.read_csv('/dacon-blocks/test.csv')\n",
    "test['img_path'] = test['img_path'].apply(lambda x: '/dacon-blocks/test_whitegrid' + x[6:])\n",
    "\n",
    "test_dataset = CustomDataset(test['img_path'].values, None, test_transform)\n",
    "test_loader = DataLoader(test_dataset, batch_size = CFG['BATCH_SIZE'], shuffle=False, num_workers=7)\n",
    "\n",
    "fourth_preds = inference(model4, test_loader, device)"
   ]
  },
  {
   "cell_type": "code",
   "execution_count": null,
   "metadata": {
    "pycharm": {
     "name": "#%%\n"
    }
   },
   "outputs": [],
   "source": [
    "fourth_preds[2]"
   ]
  },
  {
   "cell_type": "markdown",
   "metadata": {
    "pycharm": {
     "name": "#%% md\n"
    }
   },
   "source": [
    "# ensemble"
   ]
  },
  {
   "cell_type": "code",
   "execution_count": 30,
   "metadata": {
    "execution": {
     "iopub.execute_input": "2023-01-29T05:58:33.419173Z",
     "iopub.status.busy": "2023-01-29T05:58:33.418676Z",
     "iopub.status.idle": "2023-01-29T05:58:33.442279Z",
     "shell.execute_reply": "2023-01-29T05:58:33.441390Z",
     "shell.execute_reply.started": "2023-01-29T05:58:33.419129Z"
    },
    "pycharm": {
     "name": "#%%\n"
    }
   },
   "outputs": [],
   "source": [
    "#값을 계산하기 위해 np.array 실행\n",
    "a = np.array(first_preds)\n",
    "b = np.array(second_preds)\n",
    "c = np.array(third_preds)\n",
    "d = np.array(fourth_preds)"
   ]
  },
  {
   "cell_type": "code",
   "execution_count": 31,
   "metadata": {
    "execution": {
     "iopub.execute_input": "2023-01-29T05:58:33.445572Z",
     "iopub.status.busy": "2023-01-29T05:58:33.445312Z",
     "iopub.status.idle": "2023-01-29T05:58:33.455291Z",
     "shell.execute_reply": "2023-01-29T05:58:33.454219Z",
     "shell.execute_reply.started": "2023-01-29T05:58:33.445548Z"
    },
    "pycharm": {
     "name": "#%%\n"
    }
   },
   "outputs": [
    {
     "data": {
      "text/plain": [
       "array([1.93780512e-01, 9.97888029e-01, 2.05219499e-06, 1.02106490e-10,\n",
       "       1.67343344e-11, 6.17196008e-12, 1.00000000e+00, 2.29292640e-10,\n",
       "       1.00000000e+00, 1.35424864e-06])"
      ]
     },
     "execution_count": 31,
     "metadata": {},
     "output_type": "execute_result"
    }
   ],
   "source": [
    "a[0]"
   ]
  },
  {
   "cell_type": "code",
   "execution_count": 32,
   "metadata": {
    "execution": {
     "iopub.execute_input": "2023-01-29T05:58:33.457319Z",
     "iopub.status.busy": "2023-01-29T05:58:33.456746Z",
     "iopub.status.idle": "2023-01-29T05:58:33.469058Z",
     "shell.execute_reply": "2023-01-29T05:58:33.467950Z",
     "shell.execute_reply.started": "2023-01-29T05:58:33.457292Z"
    },
    "scrolled": true,
    "pycharm": {
     "name": "#%%\n"
    }
   },
   "outputs": [
    {
     "data": {
      "text/plain": [
       "array([[1.00495516e-01, 8.75524859e-01, 3.13298164e-10, ...,\n",
       "        2.63947976e-14, 1.00000000e+00, 1.41544064e-10],\n",
       "       [1.02709800e-01, 1.00000000e+00, 9.41041615e-10, ...,\n",
       "        1.34069849e-11, 1.79601172e-02, 2.26142911e-05],\n",
       "       [4.19233178e-01, 9.98463273e-01, 3.12214493e-05, ...,\n",
       "        4.12329677e-06, 6.66614598e-01, 9.99959707e-01],\n",
       "       ...,\n",
       "       [1.21581158e-10, 4.21042800e-10, 1.00000000e+00, ...,\n",
       "        1.00000000e+00, 1.11736209e-10, 1.00000000e+00],\n",
       "       [2.95706623e-04, 3.35224740e-01, 3.33306392e-01, ...,\n",
       "        6.13697811e-14, 1.00000000e+00, 9.87041314e-01],\n",
       "       [9.99173880e-01, 1.29146659e-11, 9.81517375e-01, ...,\n",
       "        5.93646744e-14, 1.08383442e-08, 1.40001147e-06]])"
      ]
     },
     "execution_count": 32,
     "metadata": {},
     "output_type": "execute_result"
    }
   ],
   "source": [
    "#동일한 비율로 각 확률값 계산\n",
    "ensem = (a*0.25 + b*0.25 +c*0.25 + d*0.25)\n",
    "\n",
    "# 확률값이 0.5 이하면 0, 0.5 초과면 1로 설정\n",
    "ensem[ensem <= 0.5] = 0\n",
    "ensem[ensem > 0.5] = 1\n",
    "\n",
    "ensem = ensem.astype(int)\n",
    "ensem"
   ]
  },
  {
   "cell_type": "code",
   "execution_count": null,
   "metadata": {
    "pycharm": {
     "name": "#%%\n"
    }
   },
   "outputs": [],
   "source": [
    "preds = ensem.tolist()\n",
    "preds[1]"
   ]
  },
  {
   "cell_type": "code",
   "execution_count": null,
   "metadata": {
    "pycharm": {
     "name": "#%%\n"
    }
   },
   "outputs": [],
   "source": [
    "submit = pd.read_csv(\"/dacon-blocks/sample_submission.csv\")\n",
    "submit.iloc[:,1:] = preds\n",
    "print(submit.head())\n",
    "submit.to_csv('ensemble.csv', index=False)"
   ]
  },
  {
   "cell_type": "code",
   "execution_count": null,
   "metadata": {
    "pycharm": {
     "name": "#%%\n"
    }
   },
   "outputs": [],
   "source": []
  }
 ],
 "metadata": {
  "kernelspec": {
   "display_name": "Python 3",
   "language": "python",
   "name": "python3"
  },
  "language_info": {
   "codemirror_mode": {
    "name": "ipython",
    "version": 3
   },
   "file_extension": ".py",
   "mimetype": "text/x-python",
   "name": "python",
   "nbconvert_exporter": "python",
   "pygments_lexer": "ipython3",
   "version": "3.8.8"
  }
 },
 "nbformat": 4,
 "nbformat_minor": 4
}