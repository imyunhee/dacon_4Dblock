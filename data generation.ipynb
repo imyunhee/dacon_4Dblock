{
 "cells": [
  {
   "cell_type": "markdown",
   "metadata": {
    "pycharm": {
     "name": "#%% md\n"
    }
   },
   "source": [
    "# 라이브러리"
   ]
  },
  {
   "cell_type": "code",
   "execution_count": null,
   "metadata": {
    "pycharm": {
     "name": "#%%\n"
    }
   },
   "outputs": [],
   "source": [
    "import numpy as np\n",
    "import cv2\n",
    "import os\n",
    "from glob import glob\n",
    "import matplotlib.pyplot as plt"
   ]
  },
  {
   "cell_type": "markdown",
   "metadata": {
    "pycharm": {
     "name": "#%% md\n"
    }
   },
   "source": [
    "# 이미지 합성"
   ]
  },
  {
   "cell_type": "code",
   "execution_count": null,
   "metadata": {
    "pycharm": {
     "name": "#%%\n"
    }
   },
   "outputs": [],
   "source": [
    "# train 원본 이미지\n",
    "img_path = '/kaggle/input/dacon-blocks/train'\n",
    "images = glob(os.path.join(img_path, '*'))\n",
    "images.sort()"
   ]
  },
  {
   "cell_type": "markdown",
   "metadata": {
    "pycharm": {
     "name": "#%% md\n"
    }
   },
   "source": [
    "## train_316\n",
    "* train의 배경 중 흰 격자 배경이 아닌 이미지가 섞여 있었다. 그 이미지의 배경을 활용하여 새로운 train data를 만들었다."
   ]
  },
  {
   "cell_type": "code",
   "execution_count": null,
   "metadata": {
    "pycharm": {
     "name": "#%%\n"
    }
   },
   "outputs": [],
   "source": [
    "#bg1 = TRAIN_31668 배경추출\n",
    "bg1_path = './TRAIN_31668.jpg'\n",
    "bg1_img = cv2.imread(bg1_path)\n",
    "\n",
    "#bg2 = TRAIN_31690 배경추출\n",
    "bg2_path = './TRAIN_31690.jpg'\n",
    "bg2_img = cv2.imread(bg2_path)\n",
    "\n",
    "#격자 이미지 \n",
    "bgwhite_path = \"./whitegrid_bg.jpg\"\n",
    "\n",
    "img_bin = np.array(bg1_img[:,:,0] < 130, dtype=np.uint8)*255 \n",
    "img_blur = cv2.medianBlur(img_bin, 5) # 잡음 제거 (커널 5*5)\n",
    "img_filter = bg1_img.copy() \n",
    "img_filter[img_blur == 0] = 0 # 배경을 0으로 만들기\n",
    "bg1 = bg1_img - img_filter # 블록 부분 빼기 (배경만 만들기)\n",
    "img_back = cv2.resize(cv2.imread(bgwhite_path), bg1.shape[::-1][1:]) # 입힐 배경(wg) 사이즈에 맞게 가져오기\n",
    "bg1 += img_back # 제거된 블록 부분에 whitegrid 입히기 \n",
    "# plt.imshow(bg1) \n",
    "\n",
    "img_bin = np.array(bg2_img[:,:,0] < 130, dtype=np.uint8)*255\n",
    "img_blur = cv2.medianBlur(img_bin, 5)\n",
    "img_filter = bg2_img.copy()\n",
    "img_filter[img_blur == 0] = 0\n",
    "bg2 = bg2_img - img_filter\n",
    "img_back = cv2.resize(cv2.imread(bgwhite_path), bg2.shape[::-1][1:])\n",
    "bg2 += img_back\n",
    "\n",
    "# plt.imshow(bg2)"
   ]
  },
  {
   "cell_type": "code",
   "execution_count": null,
   "metadata": {
    "pycharm": {
     "name": "#%%\n"
    }
   },
   "outputs": [],
   "source": [
    "#Train에 홀짝으로 Train 316 배경 입히기\n",
    "bgs = [bg1, bg2]\n",
    "\n",
    "save_path = \"./train_316/\"\n",
    "\n",
    "cnt=0\n",
    "for i in range(len(images)):\n",
    "    cnt += 1\n",
    "    img = cv2.imread(images[i])\n",
    "#   plt.imshow(img)\n",
    "\n",
    "    img_bin = np.array(img[:,:,0] < 155, dtype=np.uint8)*255\n",
    "    img_blur = cv2.medianBlur(img_bin, 5)\n",
    "    img_filter = img.copy()\n",
    "    img_filter[img_blur == 0] = 0 \n",
    "\n",
    "    retval, labels, stats, centroids = cv2.connectedComponentsWithStats(img_blur) #객체 추출\n",
    "    stats = np.array(stats) \n",
    "    stats[0, -1] = 0\n",
    "    label_idx = np.argmax(stats[:,-1])\n",
    "    img_mask = labels == label_idx \n",
    "    img_final = img_filter.copy()\n",
    "    img_final[~img_mask] = (0,0,0) # 블록만 추출\n",
    "    plt.imshow(img_final)\n",
    "    \n",
    "    h = i%len(bgs)\n",
    "    img_back = cv2.resize(bgs[h], img.shape[::-1][1:])\n",
    "    img_back[img_mask] = (0,0,0) # 블록이 아닌거만 추출\n",
    "    img_filter += img_back\n",
    "#   plt.imshow(img_filter)\n",
    "    cv2.imwrite(save_path+images[i].split('/')[-1],img_filter)\n",
    "    print(cnt)"
   ]
  },
  {
   "cell_type": "markdown",
   "metadata": {
    "pycharm": {
     "name": "#%% md\n"
    }
   },
   "source": [
    "## train_new\n",
    "* 새로운 이미지를 가져와서 합성"
   ]
  },
  {
   "cell_type": "code",
   "execution_count": null,
   "metadata": {
    "pycharm": {
     "name": "#%%\n"
    }
   },
   "outputs": [],
   "source": [
    "#bg_new 가져오기\n",
    "bg_path = './bg_new'\n",
    "bgs = glob(os.path.join(bg_path, '*'))"
   ]
  },
  {
   "cell_type": "code",
   "execution_count": null,
   "metadata": {
    "pycharm": {
     "name": "#%%\n"
    }
   },
   "outputs": [],
   "source": [
    "#train_new\n",
    "save_path = \"./train_new/\"\n",
    "\n",
    "cnt=0\n",
    "for i in range(len(images)):\n",
    "    cnt += 1\n",
    "    img = cv2.imread(images[i])\n",
    "#    plt.imshow(img)\n",
    "\n",
    "    img_bin = np.array(img[:,:,0] < 155, dtype=np.uint8)*255\n",
    "    img_blur = cv2.medianBlur(img_bin, 5)\n",
    "    img_filter = img.copy()\n",
    "    img_filter[img_blur == 0] = 0\n",
    "\n",
    "    retval, labels, stats, centroids = cv2.connectedComponentsWithStats(img_blur)\n",
    "    stats = np.array(stats)\n",
    "    stats[0, -1] = 0\n",
    "    label_idx = np.argmax(stats[:,-1])\n",
    "    img_mask = labels == label_idx\n",
    "    img_final = img_filter.copy()\n",
    "    img_final[~img_mask] = (0,0,0)\n",
    "    \n",
    "    h = i%len(bgs)\n",
    "    img_back = cv2.resize(cv2.imread(bgs[h]), img.shape[::-1][1:])\n",
    "    img_back[img_mask] = (0,0,0)\n",
    "    img_filter += img_back\n",
    "#    plt.imshow(img_filter)\n",
    "    cv2.imwrite(save_path+images[i].split('/')[-1],img_filter)\n",
    "    print(cnt)"
   ]
  }
 ],
 "metadata": {
  "kernelspec": {
   "display_name": "Python 3",
   "language": "python",
   "name": "python3"
  },
  "language_info": {
   "codemirror_mode": {
    "name": "ipython",
    "version": 3
   },
   "file_extension": ".py",
   "mimetype": "text/x-python",
   "name": "python",
   "nbconvert_exporter": "python",
   "pygments_lexer": "ipython3",
   "version": "3.6.4"
  }
 },
 "nbformat": 4,
 "nbformat_minor": 4
}